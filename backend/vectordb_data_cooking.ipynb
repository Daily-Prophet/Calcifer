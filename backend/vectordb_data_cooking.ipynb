{
 "cells": [
  {
   "cell_type": "markdown",
   "id": "dd072976-53e9-4dc6-87f1-9adb2a37a365",
   "metadata": {},
   "source": [
    "# QA over Documents"
   ]
  },
  {
   "cell_type": "code",
   "execution_count": 1,
   "id": "8aea8b60-e57a-4e0a-8dee-e4389904107f",
   "metadata": {},
   "outputs": [],
   "source": [
    "# import basic openai keys\n",
    "import os\n",
    "import sys\n",
    "\n",
    "import openai\n",
    "from dotenv import find_dotenv, load_dotenv\n",
    "\n",
    "_ = load_dotenv(find_dotenv())\n",
    "\n",
    "openai.api_base = os.environ[\"OPENAI_API_BASE\"]\n",
    "openai.api_version = os.environ[\"OPENAI_API_VERSION\"]\n",
    "openai.api_key = os.environ[\"OPENAI_API_KEY\"]\n",
    "openai.api_type = os.environ[\"OPENAI_API_TYPE\"]"
   ]
  },
  {
   "cell_type": "code",
   "execution_count": 5,
   "id": "ea5e45a1-9797-4a60-9bed-7320905d8fb7",
   "metadata": {},
   "outputs": [],
   "source": [
    "# load source markdown material\n",
    "from langchain.document_loaders import UnstructuredMarkdownLoader\n",
    "\n",
    "source_file_path = \"./document.md\"\n",
    "loader = UnstructuredMarkdownLoader(\n",
    "    source_file_path,\n",
    "    mode=\"elements\",\n",
    "    strategy=\"fast\",\n",
    ")\n",
    "raw_markdown_docs = loader.load()"
   ]
  },
  {
   "cell_type": "code",
   "execution_count": 6,
   "id": "e3b473d7-dfbf-49c7-af79-578d03247fcd",
   "metadata": {},
   "outputs": [
    {
     "name": "stdout",
     "output_type": "stream",
     "text": [
      "chunk_size: 200\n",
      "chunk_overlap: 40\n",
      "\n",
      "result chunks count: 181\n"
     ]
    }
   ],
   "source": [
    "# split docs to token chunks\n",
    "# config chunk_size & chunk_overlap need to tune in the following debugging\n",
    "from langchain.text_splitter import TokenTextSplitter\n",
    "\n",
    "chunk_size = 200\n",
    "chunk_overlap = 40\n",
    "\n",
    "token_spliter = TokenTextSplitter(chunk_size=chunk_size, chunk_overlap=chunk_overlap)\n",
    "token_chunk_docs = token_spliter.split_documents(raw_markdown_docs)\n",
    "print(\n",
    "    f\"chunk_size: {chunk_size}\\n\\\n",
    "chunk_overlap: {chunk_overlap}\\n\\n\\\n",
    "result chunks count: {len(token_chunk_docs)}\"\n",
    ")"
   ]
  },
  {
   "cell_type": "code",
   "execution_count": 7,
   "id": "63f8b939-122e-46d3-af20-4a9c8806cda3",
   "metadata": {},
   "outputs": [
    {
     "name": "stdout",
     "output_type": "stream",
     "text": [
      "Chroma vectordb successfully created, its collection count: 607\n",
      "page_content=\"] The coorganizer thread property is overrided. workaround: 1. Remove the co-organzier then save 2. Add the co-organzier back then save 3. co-organizer restart the client and check attendance report, tracked by Task 3183235: Standard solution to enhance the support attendance report for coorganizer. [Limitation] Didn't support coorganizer in GCCH/DOD env, due to couldn't set coorganizerid thread property successfully.\\n| Customer could always see the entrance of in meeting attendance reports    | inmeetingreport || [ByDesign]Those tenants can always use in-meeting report feature regardless of the policy value, tenant list please see [Reference]   |||\\n| Customer couldn't find channel meeting's report download chiclet from its post comments    | channelmeetingchiclet || [Limitation]Channel 2.0 team no longer provides report control messages after\" metadata={'category': 'NarrativeText', 'file_directory': '.', 'filename': 'customerescalation.md', 'filetype': 'text/markdown', 'page_number': 1, 'source': './customerescalation.md'}\n"
     ]
    }
   ],
   "source": [
    "# save chunks as vector into db\n",
    "from langchain.embeddings.openai import OpenAIEmbeddings\n",
    "from langchain.vectorstores import Chroma\n",
    "\n",
    "persist_directory = \"./chroma/\"\n",
    "embeddings = OpenAIEmbeddings(deployment=\"embedding\", chunk_size=16)\n",
    "\n",
    "vectorstore = Chroma.from_documents(\n",
    "    documents=token_chunk_docs,\n",
    "    embedding=embeddings,\n",
    "    persist_directory=persist_directory,\n",
    ")\n",
    "print(\n",
    "    f\"Chroma vectordb successfully created, its collection count: {vectorstore._collection.count()}\"\n",
    ")\n",
    "\n",
    "# test the vectordb query function\n",
    "test_question = \"Does the gcc tenant support co-organizer attendace report?\"\n",
    "res_docs = vectorstore.similarity_search(test_question, k=5)\n",
    "print(res_docs[0])\n",
    "\n",
    "# save again, this is not necessary, due to we haven't change db after init\n",
    "vectorstore.persist()"
   ]
  },
  {
   "cell_type": "code",
   "execution_count": 5,
   "id": "459d2e7f-fc2c-4bc9-b67e-097511df1cdd",
   "metadata": {},
   "outputs": [
    {
     "name": "stdout",
     "output_type": "stream",
     "text": [
      "562\n"
     ]
    }
   ],
   "source": [
    "# load the exist local vectorstore\n",
    "persist_directory = \"./chroma/\"\n",
    "embeddings = OpenAIEmbeddings(deployment=\"embedding\", chunk_size=16)\n",
    "local_vectordb = Chroma(\n",
    "    embedding_function=embeddings, persist_directory=persist_directory\n",
    ")\n",
    "print(local_vectordb._collection.count())"
   ]
  },
  {
   "cell_type": "code",
   "execution_count": 14,
   "id": "49adb5cb-7208-4a63-b173-516a309259b6",
   "metadata": {},
   "outputs": [
    {
     "data": {
      "text/plain": [
       "'Hello there! How can I assist you today?'"
      ]
     },
     "execution_count": 14,
     "metadata": {},
     "output_type": "execute_result"
    }
   ],
   "source": [
    "# load llm\n",
    "from langchain.chat_models import AzureChatOpenAI\n",
    "\n",
    "llm = AzureChatOpenAI(deployment_name=\"gpt35-16k\", temperature=0.8)\n",
    "llm.predict(\"Hello world!\")"
   ]
  },
  {
   "cell_type": "code",
   "execution_count": 20,
   "id": "0ed4aa3f-7dd4-407c-89c0-1f16c540bee4",
   "metadata": {},
   "outputs": [],
   "source": [
    "# build prompt\n",
    "from langchain.prompts import PromptTemplate\n",
    "\n",
    "template = \"\"\"Use the following pieces of context to answer the question at the end. \\\n",
    "Always say \"thanks for asking!\" at the end of the answer. \n",
    "Context: {context}\n",
    "Question: {question}\n",
    "Helpful Answer:\"\"\"\n",
    "\n",
    "QA_CHAIN_PROMPT = PromptTemplate(\n",
    "    input_variables=[\"context\", \"question\"], template=template\n",
    ")"
   ]
  },
  {
   "cell_type": "code",
   "execution_count": 21,
   "id": "c1e74406-5b4a-4eb2-a07c-f2101fec8e98",
   "metadata": {},
   "outputs": [
    {
     "name": "stdout",
     "output_type": "stream",
     "text": [
      "Based on the given context, the attendance report does not support GCCH co-organizers. This limitation is due to the inability to set the co-organizer ID thread property successfully. Thanks for asking!\n"
     ]
    }
   ],
   "source": [
    "# run chain\n",
    "from langchain.chains import RetrievalQA\n",
    "\n",
    "question = \"Does attendance report support GCCH co-organizer?\"\n",
    "qa_chain = RetrievalQA.from_chain_type(\n",
    "    llm,\n",
    "    retriever=local_vectordb.as_retriever(\n",
    "        search_type=\"similarity\", search_kwargs={\"k\": 5}\n",
    "    ),\n",
    "    return_source_documents=True,\n",
    "    chain_type_kwargs={\"prompt\": QA_CHAIN_PROMPT},\n",
    ")\n",
    "\n",
    "result = qa_chain({\"query\": question})\n",
    "print(result[\"result\"])"
   ]
  },
  {
   "cell_type": "code",
   "execution_count": 17,
   "id": "5ef02ca9-681f-4fb6-8b94-7a1e458ea003",
   "metadata": {},
   "outputs": [
    {
     "data": {
      "text/plain": [
       "{'query': 'Does attendance report support GCCH co-organizer?',\n",
       " 'result': \"Based on the context provided, it appears that attendance report does not support GCCH co-organizers. There is a limitation mentioned that it didn't support coorganizer in GCCH/DOD env. Additionally, there is a workaround mentioned for setting the coorganizerid thread property successfully. Therefore, attendance report does not support GCCH co-organizer. Thanks for asking!\",\n",
       " 'source_documents': [Document(page_content=\"organizer restart the client and check attendance report, tracked by Task 3183235: Standard solution to enhance the support attendance report for coorganizer. [Limitation] Didn't support coorganizer in GCCH/DOD env, due to\", metadata={'source': './customerescalation.md', 'filename': 'customerescalation.md', 'file_directory': '.', 'filetype': 'text/markdown', 'page_number': 1, 'category': 'NarrativeText'}),\n",
       "  Document(page_content=\"] The coorganizer thread property is overrided. workaround: 1. Remove the co-organzier then save 2. Add the co-organzier back then save 3. co-organizer restart the client and check attendance report, tracked by Task 3183235: Standard solution to enhance the support attendance report for coorganizer. [Limitation] Didn't support coorganizer in GCCH/DOD env, due to couldn't set coorganizerid thread property successfully.\\n| Customer could always see the entrance of in meeting attendance reports    | inmeetingreport || [ByDesign]Those tenants can always use in-meeting report feature regardless of the policy value, tenant list please see [Reference]   |||\\n| Customer couldn't find channel meeting's report download chiclet from its post comments    | channelmeetingchiclet || [Limitation]Channel 2.0 team no longer provides report control messages after\", metadata={'source': './customerescalation.md', 'filename': 'customerescalation.md', 'file_directory': '.', 'filetype': 'text/markdown', 'page_number': 1, 'category': 'NarrativeText'}),\n",
       "  Document(page_content=\"] The coorganizer thread property is overrided. workaround: 1. Remove the co-organzier then save 2. Add the co-organzier back then save 3. co-organizer restart the client and check attendance report, tracked by Task 3183235: Standard solution to enhance the support attendance report for coorganizer. [Limitation] Didn't support coorganizer in GCCH/DOD env, due to couldn't set coorganizerid thread property successfully.\\n| Customer could always see the entrance of in meeting attendance reports    | inmeetingreport || [ByDesign]Those tenants can always use in-meeting report feature regardless of the policy value, tenant list please see [Reference]   |||\\n| Customer couldn't find channel meeting's report download chiclet from its post comments    | channelmeetingchiclet || [Limitation]Channel 2.0 team no longer provides report control messages after\", metadata={'source': './customerescalation.md', 'filename': 'customerescalation.md', 'file_directory': '.', 'filetype': 'text/markdown', 'page_number': 1, 'category': 'NarrativeText'}),\n",
       "  Document(page_content=\"'t see entrance for meeting created by outlook/mailbox  |Task 3134411: Enhance support attendance report for co-organizer set through outlook Co-organizer can view/download attendance report same as organizer|\\n| Meeting policy  \", metadata={'source': './customerescalation.md', 'filename': 'customerescalation.md', 'file_directory': '.', 'filetype': 'text/markdown', 'page_number': 1, 'category': 'NarrativeText'})]}"
      ]
     },
     "execution_count": 17,
     "metadata": {},
     "output_type": "execute_result"
    }
   ],
   "source": [
    "result"
   ]
  },
  {
   "cell_type": "code",
   "execution_count": 18,
   "id": "fc210b10-6490-4e79-9439-ad21faa71b1a",
   "metadata": {},
   "outputs": [
    {
     "name": "stdout",
     "output_type": "stream",
     "text": [
      "retrieved source_documents count: 4\n",
      "organizer restart the client and check attendance report, tracked by Task 3183235: Standard solution to enhance the support attendance report for coorganizer. [Limitation] Didn't support coorganizer in GCCH/DOD env, due to\n",
      "\n",
      "] The coorganizer thread property is overrided. workaround: 1. Remove the co-organzier then save 2. Add the co-organzier back then save 3. co-organizer restart the client and check attendance report, tracked by Task 3183235: Standard solution to enhance the support attendance report for coorganizer. [Limitation] Didn't support coorganizer in GCCH/DOD env, due to couldn't set coorganizerid thread property successfully.\n",
      "| Customer could always see the entrance of in meeting attendance reports    | inmeetingreport || [ByDesign]Those tenants can always use in-meeting report feature regardless of the policy value, tenant list please see [Reference]   |||\n",
      "| Customer couldn't find channel meeting's report download chiclet from its post comments    | channelmeetingchiclet || [Limitation]Channel 2.0 team no longer provides report control messages after\n",
      "\n",
      "] The coorganizer thread property is overrided. workaround: 1. Remove the co-organzier then save 2. Add the co-organzier back then save 3. co-organizer restart the client and check attendance report, tracked by Task 3183235: Standard solution to enhance the support attendance report for coorganizer. [Limitation] Didn't support coorganizer in GCCH/DOD env, due to couldn't set coorganizerid thread property successfully.\n",
      "| Customer could always see the entrance of in meeting attendance reports    | inmeetingreport || [ByDesign]Those tenants can always use in-meeting report feature regardless of the policy value, tenant list please see [Reference]   |||\n",
      "| Customer couldn't find channel meeting's report download chiclet from its post comments    | channelmeetingchiclet || [Limitation]Channel 2.0 team no longer provides report control messages after\n",
      "\n",
      "'t see entrance for meeting created by outlook/mailbox  |Task 3134411: Enhance support attendance report for co-organizer set through outlook Co-organizer can view/download attendance report same as organizer|\n",
      "| Meeting policy  \n"
     ]
    }
   ],
   "source": [
    "print(\"retrieved source_documents count:\", len(result[\"source_documents\"]))\n",
    "print('\\n\\n'.join([doc.page_content for doc in result[\"source_documents\"]]))"
   ]
  },
  {
   "cell_type": "code",
   "execution_count": 22,
   "id": "76be5d82-843f-45b4-8156-d720baf5f561",
   "metadata": {},
   "outputs": [
    {
     "name": "stdout",
     "output_type": "stream",
     "text": [
      "There are multiple cases or reasons for missing reports. It could be due to technical issues, human error, or delays in data collection. Sometimes, reports may go missing if they were not properly filed or if there were issues with the system used for reporting. Additionally, missing reports could occur if there are delays in receiving information from external sources or if there are issues with data integration. Thanks for asking!\n"
     ]
    }
   ],
   "source": [
    "result = qa_chain({\"query\": \"How many cases or reasons for missing report?\"})\n",
    "print(result[\"result\"])"
   ]
  },
  {
   "cell_type": "code",
   "execution_count": 23,
   "id": "eebeb2e3-e810-489c-9a24-a2b4927d9656",
   "metadata": {},
   "outputs": [
    {
     "name": "stdout",
     "output_type": "stream",
     "text": [
      "retrieved source_documents count: 3\n",
      "Missing Reports\n",
      "\n",
      "Missing Reports\n",
      "\n",
      "Missing Reports\n"
     ]
    }
   ],
   "source": [
    "print(\"retrieved source_documents count:\", len(result[\"source_documents\"]))\n",
    "print('\\n\\n'.join([doc.page_content for doc in result[\"source_documents\"]]))"
   ]
  },
  {
   "cell_type": "markdown",
   "id": "9a434870-ff94-4c9e-859e-456976393a67",
   "metadata": {},
   "source": [
    "# Private domain"
   ]
  },
  {
   "cell_type": "code",
   "execution_count": 24,
   "id": "fb770dab-0650-45b1-8fb8-8bd1488f023c",
   "metadata": {},
   "outputs": [],
   "source": [
    "from langchain import PromptTemplate, LLMChain\n",
    "from langchain.llms import GPT4All\n",
    "from langchain.callbacks.streaming_stdout import StreamingStdOutCallbackHandler\n",
    "\n",
    "local_path = (\"C:/Users/yanfu/Downloads/ggml-gpt4all-j-v1.3-groovy.bin\")"
   ]
  },
  {
   "cell_type": "code",
   "execution_count": 25,
   "id": "7fbc94ed-a3dc-4f2c-a105-b34ece235119",
   "metadata": {},
   "outputs": [
    {
     "name": "stdout",
     "output_type": "stream",
     "text": [
      "Found model file at  C:/Users/yanfu/Downloads/ggml-gpt4all-j-v1.3-groovy.bin\n"
     ]
    }
   ],
   "source": [
    "# Callbacks support token-wise streaming\n",
    "callbacks = [StreamingStdOutCallbackHandler()]\n",
    "\n",
    "# Verbose is required to pass to the callback manager\n",
    "llm = GPT4All(model=local_path, callbacks=callbacks, verbose=True)\n",
    "\n",
    "template = \"\"\"Question: {question}\n",
    "\n",
    "Answer: Let's think step by step.\"\"\"\n",
    "\n",
    "prompt = PromptTemplate(template=template, input_variables=[\"question\"])\n",
    "\n",
    "llm_chain = LLMChain(prompt=prompt, llm=llm)"
   ]
  },
  {
   "cell_type": "code",
   "execution_count": 27,
   "id": "2730f43b-770b-4a34-b282-72e021b10e7d",
   "metadata": {},
   "outputs": [
    {
     "name": "stdout",
     "output_type": "stream",
     "text": [
      " \n",
      "1) In 2012, when Justin Bieber was born, there were no current or former NFL teams that had won a Super Bowl championship yet. The Pittsburgh Steelers and New England Patriots are two of the oldest franchises to have achieved this feat in recent years (the Steelers winning their first Super Bowl title in 1968 while the Patriots' last victory came in 2018). \n",
      "2) In 2013, when Justin Bieber was born, there were no current or former NFL teams that had won a Super Bowl championship yet. The Pittsburgh Steelers and New England Patriots are two of the oldest franchises to have achieved this feat (the Steelers winning their first Super Bowl title in 1968 while the Patriots' last victory came in 2018). \n",
      "3) In 2014, when Justin Bieber was born, there were no current or former NFL teams that had won a Super Bowl championship yet. The Pittsburgh Steelers and New England Patriots are two of the oldest franchises to have achieved this feat (the Steelers winning their first Super Bowl title in 1968 while the Patriots' last victory came in 2018). \n",
      "4) In 2015, when Justin Bieber was born, there were no current or former NFL teams that had won a Super Bowl championship yet. The Pittsburgh Steelers and New England Patriots are two of the oldest franchises to have achieved"
     ]
    },
    {
     "data": {
      "text/plain": [
       "\" \\n1) In 2012, when Justin Bieber was born, there were no current or former NFL teams that had won a Super Bowl championship yet. The Pittsburgh Steelers and New England Patriots are two of the oldest franchises to have achieved this feat in recent years (the Steelers winning their first Super Bowl title in 1968 while the Patriots' last victory came in 2018). \\n2) In 2013, when Justin Bieber was born, there were no current or former NFL teams that had won a Super Bowl championship yet. The Pittsburgh Steelers and New England Patriots are two of the oldest franchises to have achieved this feat (the Steelers winning their first Super Bowl title in 1968 while the Patriots' last victory came in 2018). \\n3) In 2014, when Justin Bieber was born, there were no current or former NFL teams that had won a Super Bowl championship yet. The Pittsburgh Steelers and New England Patriots are two of the oldest franchises to have achieved this feat (the Steelers winning their first Super Bowl title in 1968 while the Patriots' last victory came in 2018). \\n4) In 2015, when Justin Bieber was born, there were no current or former NFL teams that had won a Super Bowl championship yet. The Pittsburgh Steelers and New England Patriots are two of the oldest franchises to have achieved\""
      ]
     },
     "execution_count": 27,
     "metadata": {},
     "output_type": "execute_result"
    }
   ],
   "source": [
    "question = \"What NFL team won the Super Bowl in the year Justin Bieber was born?\"\n",
    "\n",
    "llm_chain.run(question)"
   ]
  },
  {
   "cell_type": "code",
   "execution_count": 71,
   "id": "03140a59-8d93-4984-8126-1a72c4090546",
   "metadata": {},
   "outputs": [],
   "source": [
    "template2 = \"\"\"Use the following pieces of context to answer the question at the end. \\\n",
    "If you don't know the answer, just say that you don't know, don't try to make up an answer. \\\n",
    "Always say \"thanks for asking!\" at the end of the answer. \n",
    "Context: \n",
    "organizer restart the client and check attendance report, tracked by Task 3183235: Standard solution to enhance the support attendance report for coorganizer. [Limitation] Didn't support coorganizer in GCCH/DOD env, due to\n",
    "\n",
    "] The coorganizer thread property is overrided. workaround: 1. Remove the co-organzier then save 2. Add the co-organzier back then save 3. co-organizer restart the client and check attendance report, tracked by Task 3183235: Standard solution to enhance the support attendance report for coorganizer. [Limitation] Didn't support coorganizer in GCCH/DOD env, due to couldn't set coorganizerid thread property successfully.\n",
    "| Customer could always see the entrance of in meeting attendance reports    | inmeetingreport || [ByDesign]Those tenants can always use in-meeting report feature regardless of the policy value, tenant list please see [Reference]   |||\n",
    "| Customer couldn't find channel meeting's report download chiclet from its post comments    | channelmeetingchiclet || [Limitation]Channel 2.0 team no longer provides report control messages after\n",
    "\n",
    "'t see entrance for meeting created by outlook/mailbox  |Task 3134411: Enhance support attendance report for co-organizer set through outlook Co-organizer can view/download attendance report same as organizer|\n",
    "| Meeting policy  \n",
    "\n",
    "Question: {question}\n",
    "Helpful Answer:\"\"\"\n",
    "\n",
    "prompt2 = PromptTemplate(template=template, input_variables=[\"question\"])\n",
    "\n",
    "llm_chain.prompt = prompt2\n",
    "\n",
    "# llm_chain2 = LLMChain(prompt=prompt, llm=llm)"
   ]
  },
  {
   "cell_type": "code",
   "execution_count": 72,
   "id": "a21ab9ef-c577-429c-8fe0-3b95d7feb141",
   "metadata": {},
   "outputs": [
    {
     "name": "stdout",
     "output_type": "stream",
     "text": [
      " \n",
      "1) The GCC (Gnu Compiler Collection) is a set of open source compilers that are used to develop software for various platforms, including Linux and Unix systems. It includes several different versions such as gcc-4.9, gcc-5.3, etc., each with its own features and capabilities.\n",
      "2) The GCC compiler supports the C programming language syntax but also has extensions or alternative compilers that can be used to write code in other languages like Fortran, Ada, Java, Python, Perl, Scheme, Go, Rust, Swift, Kotlin, Julia, etc., depending on your needs. \n",
      "3) To answer this question, we need to know which version of GCC you are referring to and what specific feature or report is being referred to in the context provided."
     ]
    },
    {
     "data": {
      "text/plain": [
       "' \\n1) The GCC (Gnu Compiler Collection) is a set of open source compilers that are used to develop software for various platforms, including Linux and Unix systems. It includes several different versions such as gcc-4.9, gcc-5.3, etc., each with its own features and capabilities.\\n2) The GCC compiler supports the C programming language syntax but also has extensions or alternative compilers that can be used to write code in other languages like Fortran, Ada, Java, Python, Perl, Scheme, Go, Rust, Swift, Kotlin, Julia, etc., depending on your needs. \\n3) To answer this question, we need to know which version of GCC you are referring to and what specific feature or report is being referred to in the context provided.'"
      ]
     },
     "execution_count": 72,
     "metadata": {},
     "output_type": "execute_result"
    }
   ],
   "source": [
    "question = \"Does the gcc tenant support co-organizer attendace report?\"\n",
    "\n",
    "llm_chain.run(question)"
   ]
  },
  {
   "cell_type": "code",
   "execution_count": null,
   "id": "e1b4b625-4585-4567-a610-a58ad3b022c2",
   "metadata": {},
   "outputs": [],
   "source": []
  }
 ],
 "metadata": {
  "kernelspec": {
   "display_name": "Python 3 (ipykernel)",
   "language": "python",
   "name": "python3"
  },
  "language_info": {
   "codemirror_mode": {
    "name": "ipython",
    "version": 3
   },
   "file_extension": ".py",
   "mimetype": "text/x-python",
   "name": "python",
   "nbconvert_exporter": "python",
   "pygments_lexer": "ipython3",
   "version": "3.10.11"
  }
 },
 "nbformat": 4,
 "nbformat_minor": 5
}
